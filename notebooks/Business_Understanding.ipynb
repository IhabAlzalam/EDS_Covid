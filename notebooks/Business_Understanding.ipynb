{
 "cells": [
  {
   "cell_type": "markdown",
   "id": "362d4728",
   "metadata": {},
   "source": [
    "![CRISP_DM](../reports/figures/CRISP_DM.png)"
   ]
  },
  {
   "cell_type": "markdown",
   "id": "a1b49e40",
   "metadata": {},
   "source": [
    "# Business Understanding"
   ]
  },
  {
   "cell_type": "markdown",
   "id": "ff1ed0dd",
   "metadata": {},
   "source": [
    "Track corona Virus spread across countries with personal local information\n",
    "\n",
    "General information is not so relevant so it's better to have a deep dive in the development of the spread"
   ]
  },
  {
   "cell_type": "markdown",
   "id": "4a909c12",
   "metadata": {},
   "source": [
    "## For the Lecture:\n",
    "Get understanding about the development of corona in developed countries that have took almost similar measures against Covid-19 (United Kingdom, France, Belgium) which are also located near to each other and have almost the same weather conditions.\n",
    "\n",
    "See the development according to the vaccination rate in these countries over time and how it affected the number of the cases"
   ]
  },
  {
   "cell_type": "markdown",
   "id": "9ea6ee02",
   "metadata": {},
   "source": [
    "## Goals"
   ]
  },
  {
   "cell_type": "markdown",
   "id": "f4759a41",
   "metadata": {},
   "source": [
    "- Understand the Data quality\n",
    "\n",
    "- Everything shlould be automated as much as possible----> measured:\n",
    "    - how many clicks do we need to execute the whole pipeline\n",
    "    "
   ]
  },
  {
   "cell_type": "markdown",
   "id": "09d11b91",
   "metadata": {},
   "source": [
    "## constraints\n",
    "- Each notebook should be left clean and ready to execute"
   ]
  },
  {
   "cell_type": "code",
   "execution_count": null,
   "id": "1e7b39dc",
   "metadata": {},
   "outputs": [],
   "source": []
  }
 ],
 "metadata": {
  "kernelspec": {
   "display_name": "Python 3 (ipykernel)",
   "language": "python",
   "name": "python3"
  },
  "language_info": {
   "codemirror_mode": {
    "name": "ipython",
    "version": 3
   },
   "file_extension": ".py",
   "mimetype": "text/x-python",
   "name": "python",
   "nbconvert_exporter": "python",
   "pygments_lexer": "ipython3",
   "version": "3.9.12"
  }
 },
 "nbformat": 4,
 "nbformat_minor": 5
}
